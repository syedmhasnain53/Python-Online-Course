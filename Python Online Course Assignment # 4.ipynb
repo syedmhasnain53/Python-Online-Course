{
 "cells": [
  {
   "cell_type": "markdown",
   "metadata": {},
   "source": [
    "# ASSIGNMENT # 4"
   ]
  },
  {
   "cell_type": "markdown",
   "metadata": {},
   "source": [
    "# QUESTION # 1"
   ]
  },
  {
   "cell_type": "code",
   "execution_count": 1,
   "metadata": {},
   "outputs": [
    {
     "name": "stdout",
     "output_type": "stream",
     "text": [
      "{'first_name': 'Ali', 'last_name': 'jee', 'age': 23, 'city': 'Khi'}\n",
      "{'first_name': 'Ali', 'last_name': 'jee', 'age': 23, 'city': 'Khi', 'Qualification': 'BC in Computer Engineering'}\n",
      "{'first_name': 'Ali', 'last_name': 'jee', 'age': 23, 'city': 'Khi'}\n"
     ]
    }
   ],
   "source": [
    "person = {\n",
    "    'first_name':'Ali',\n",
    "    'last_name': 'jee',\n",
    "    'age': 23,\n",
    "    'city': 'Khi',\n",
    "    }\n",
    "print (person)\n",
    "person['Qualification']='BC in Computer Engineering'  \n",
    "print (person)\n",
    "del person['Qualification']\n",
    "print (person)"
   ]
  },
  {
   "cell_type": "markdown",
   "metadata": {},
   "source": [
    "# QUESTION # 2"
   ]
  },
  {
   "cell_type": "code",
   "execution_count": 2,
   "metadata": {},
   "outputs": [
    {
     "name": "stdout",
     "output_type": "stream",
     "text": [
      "karachi {'country': 'Pakistan', 'Population': '10 Million', 'fact': 'centre of all civilazations'}\n",
      "lahore {'country': 'Pakistan', 'Population': '5 million', 'fact': 'it has badshahi mosque'}\n",
      "sialkot {'country': 'Pakistan', 'Population': '1 million', 'fact': 'its sport goods are famous world wide'}\n"
     ]
    }
   ],
   "source": [
    "city = {\n",
    "    \"karachi\":{\n",
    "        \"country\":\"Pakistan\",\n",
    "        \"Population\":\"10 Million\",\n",
    "        \"fact\":\"centre of all civilazations\"\n",
    "    },\n",
    "    \"lahore\":{\n",
    "        \"country\":\"Pakistan\",\n",
    "        \"Population\":\"5 million\",\n",
    "        'fact':\"it has badshahi mosque\"\n",
    "    },\n",
    "       \"sialkot\":{\n",
    "           \"country\":\"Pakistan\",\n",
    "           \"Population\":\"1 million\",\n",
    "           \"fact\":\"its sport goods are famous world wide\"\n",
    "       }\n",
    "    }\n",
    "for k,v in city.items():\n",
    "    print(k,v)"
   ]
  },
  {
   "cell_type": "markdown",
   "metadata": {},
   "source": [
    "# QUESTION # 3"
   ]
  },
  {
   "cell_type": "code",
   "execution_count": 3,
   "metadata": {},
   "outputs": [
    {
     "name": "stdout",
     "output_type": "stream",
     "text": [
      "what is your age: 20\n",
      "your ticket is $15\n"
     ]
    }
   ],
   "source": [
    "for i in range(3):\n",
    "    age = int(input(\"what is your age: \"))\n",
    "    #print('\\n')\n",
    "    if age <=3:\n",
    "        print(\"your ticket is free\")\n",
    "        break\n",
    "    if age >3 and age <=12:\n",
    "        print(\"your ticket is $10\")\n",
    "        break\n",
    "    if age > 12:\n",
    "        print(\"your ticket is $15\")\n",
    "        break"
   ]
  },
  {
   "cell_type": "markdown",
   "metadata": {},
   "source": [
    "# QUESTIION # 4"
   ]
  },
  {
   "cell_type": "code",
   "execution_count": 4,
   "metadata": {},
   "outputs": [
    {
     "name": "stdout",
     "output_type": "stream",
     "text": [
      "Leaders Eat Last is one of my favourite book\n"
     ]
    }
   ],
   "source": [
    "def favourite_book(title):\n",
    "    print(title,'is one of my favourite book')\n",
    "favourite_book('Leaders Eat Last')"
   ]
  },
  {
   "cell_type": "markdown",
   "metadata": {},
   "source": [
    "# QUESTION # 5"
   ]
  },
  {
   "cell_type": "code",
   "execution_count": 7,
   "metadata": {},
   "outputs": [
    {
     "name": "stdout",
     "output_type": "stream",
     "text": [
      "================HINT================\n",
      "try a number between 10 and 20\n",
      "enter your guess: 15\n",
      "your guess is wrong\n",
      "============better luck next time :-)============\n",
      "enter your guess: 16\n",
      "your guess is wrong\n",
      "============better luck next time :-)============\n",
      "enter your guess: 17\n",
      "your guess is wrong\n",
      "============better luck next time :-)============\n"
     ]
    }
   ],
   "source": [
    "import random\n",
    "random=random.randint(1,30)\n",
    "print(\"================HINT================\")\n",
    "if random>= 1 and random < 10:\n",
    "    print(\"try a number between 1 and 10\")\n",
    "elif random>= 10 and random< 20:\n",
    "    print(\"try a number between 10 and 20\")\n",
    "elif random>= 20 and random< 30:\n",
    "    print(\"try a number between 20 and 30\")\n",
    "for i in range(0,3):\n",
    "    user = int(input(\"enter your guess: \"))\n",
    "    if user < 1 or user > 30:\n",
    "        print(\"choose a number between 1 and 30\")\n",
    "    else:\n",
    "        if user == random:\n",
    "            print(\"your guess is right\")\n",
    "            break\n",
    "        else:\n",
    "            print(\"your guess is wrong\")\n",
    "            print(\"============better luck next time :-)============\")"
   ]
  }
 ],
 "metadata": {
  "kernelspec": {
   "display_name": "Python 3",
   "language": "python",
   "name": "python3"
  },
  "language_info": {
   "codemirror_mode": {
    "name": "ipython",
    "version": 3
   },
   "file_extension": ".py",
   "mimetype": "text/x-python",
   "name": "python",
   "nbconvert_exporter": "python",
   "pygments_lexer": "ipython3",
   "version": "3.7.3"
  }
 },
 "nbformat": 4,
 "nbformat_minor": 2
}
