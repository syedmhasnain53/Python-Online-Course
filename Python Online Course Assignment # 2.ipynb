{
 "cells": [
  {
   "cell_type": "markdown",
   "metadata": {},
   "source": [
    "# ASSIGNMENT # 2"
   ]
  },
  {
   "cell_type": "markdown",
   "metadata": {},
   "source": [
    "# Write a program which takes 5 inputs from user for different subject’s marks, total it and generate mark sheet using grades ?"
   ]
  },
  {
   "cell_type": "code",
   "execution_count": 35,
   "metadata": {},
   "outputs": [
    {
     "name": "stdout",
     "output_type": "stream",
     "text": [
      "Enter the maths subject marks 80\n",
      "Enter the physics subject marks 85\n",
      "Enter the chemistry subject marks 75\n",
      "Enter the english subject marks 70\n",
      "Enter the urdu subject marks 65\n",
      "\n",
      "Maths     :   80\n",
      "Physics   :   85\n",
      "Chemistry :   75\n",
      "English   :   70\n",
      "Urdu      :   65\n",
      "\n",
      "Total     :   375 out of 500\n",
      "Average   :   75.0 %\n",
      "\n",
      "Grade: B\n"
     ]
    }
   ],
   "source": [
    "maths = int(input('Enter the maths subject marks '))\n",
    "physics = int(input('Enter the physics subject marks '))\n",
    "chemistry = int(input('Enter the chemistry subject marks '))\n",
    "english = int(input('Enter the english subject marks '))\n",
    "urdu = int(input('Enter the urdu subject marks '))\n",
    "Total = maths + physics + chemistry + english + urdu\n",
    "average = (maths + physics + chemistry + english + urdu)/5.0\n",
    "print()\n",
    "print('Maths     :  ',maths)\n",
    "print('Physics   :  ',physics)\n",
    "print('Chemistry :  ',chemistry)\n",
    "print('English   :  ',english)\n",
    "print('Urdu      :  ',urdu)\n",
    "print()\n",
    "print('Total     :  ',Total,'out of 500')\n",
    "print(\"Average   :  \",average,'%')\n",
    "print()\n",
    "if(average>=90):\n",
    "    print(\"Grade: A+\")\n",
    "elif(average>=80 and avg<90):\n",
    "    print(\"Grade: A\")\n",
    "elif(average>=70 and avg<80):\n",
    "    print(\"Grade: B\")\n",
    "elif(average>=60 and avg<70):\n",
    "    print(\"Grade: C\")\n",
    "else:\n",
    "    print(\"Grade: Failed\")"
   ]
  },
  {
   "cell_type": "markdown",
   "metadata": {},
   "source": [
    "# Write a program which take input from user and identify that the given number is even or odd?"
   ]
  },
  {
   "cell_type": "code",
   "execution_count": 19,
   "metadata": {},
   "outputs": [
    {
     "name": "stdout",
     "output_type": "stream",
     "text": [
      "Enter a number: 50\n",
      "This is an even number.\n"
     ]
    }
   ],
   "source": [
    "num = int(input(\"Enter a number: \"))\n",
    "mod = num % 2\n",
    "if mod > 0:\n",
    "    print(\"This is an odd number.\")\n",
    "else:\n",
    "    print(\"This is an even number.\")"
   ]
  },
  {
   "cell_type": "markdown",
   "metadata": {},
   "source": [
    "# Write a program which print the length of the list?"
   ]
  },
  {
   "cell_type": "code",
   "execution_count": 36,
   "metadata": {},
   "outputs": [
    {
     "name": "stdout",
     "output_type": "stream",
     "text": [
      "['Atlanta', 'Baltimore', 'Chicago', 'Denver', 'Los Angeles', 'Seattle']\n",
      "The lenght of list is: 6\n"
     ]
    }
   ],
   "source": [
    "cities = [\"Atlanta\", \"Baltimore\", \"Chicago\", \"Denver\", \"Los Angeles\", \"Seattle\"]\n",
    "print(cities)\n",
    "print('The lenght of list is:',len(cities))"
   ]
  },
  {
   "cell_type": "markdown",
   "metadata": {},
   "source": [
    "# Write a Python program to sum all the numeric items in a list?"
   ]
  },
  {
   "cell_type": "code",
   "execution_count": 37,
   "metadata": {},
   "outputs": [
    {
     "name": "stdout",
     "output_type": "stream",
     "text": [
      "[100, 200, 350, 50, 80]\n",
      "Sum of all elements in given list: 780\n"
     ]
    }
   ],
   "source": [
    "list1 = [100, 200, 350, 50, 80]  \n",
    "total = sum(list1)\n",
    "print(list1)\n",
    "print(\"Sum of all elements in given list:\",total) "
   ]
  },
  {
   "cell_type": "markdown",
   "metadata": {},
   "source": [
    "# Write a Python program to get the largest number from a numeric list."
   ]
  },
  {
   "cell_type": "code",
   "execution_count": 28,
   "metadata": {},
   "outputs": [
    {
     "name": "stdout",
     "output_type": "stream",
     "text": [
      "[10, 20, 100, 45, 99]\n",
      "Largest element is: 100\n"
     ]
    }
   ],
   "source": [
    "list1 = [10, 20, 100, 45, 99] \n",
    "print(list1)\n",
    "print(\"Largest element is:\", max(list1))"
   ]
  },
  {
   "cell_type": "markdown",
   "metadata": {},
   "source": [
    "# Take a list and write a program that prints out all the elements of the list that are less than 5."
   ]
  },
  {
   "cell_type": "code",
   "execution_count": 34,
   "metadata": {},
   "outputs": [
    {
     "name": "stdout",
     "output_type": "stream",
     "text": [
      "1\n",
      "1\n",
      "2\n",
      "3\n"
     ]
    }
   ],
   "source": [
    "a = [1, 1, 2, 3, 5, 8, 13, 21, 34, 55, 89]\n",
    "for i in a:\n",
    "    if i<5:\n",
    "        print(i)"
   ]
  },
  {
   "cell_type": "code",
   "execution_count": null,
   "metadata": {},
   "outputs": [],
   "source": []
  }
 ],
 "metadata": {
  "kernelspec": {
   "display_name": "Python 3",
   "language": "python",
   "name": "python3"
  },
  "language_info": {
   "codemirror_mode": {
    "name": "ipython",
    "version": 3
   },
   "file_extension": ".py",
   "mimetype": "text/x-python",
   "name": "python",
   "nbconvert_exporter": "python",
   "pygments_lexer": "ipython3",
   "version": "3.7.3"
  }
 },
 "nbformat": 4,
 "nbformat_minor": 2
}
